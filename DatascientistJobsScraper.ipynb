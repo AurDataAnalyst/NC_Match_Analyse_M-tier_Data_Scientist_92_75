{
 "cells": [
  {
   "cell_type": "code",
   "execution_count": 33,
   "metadata": {},
   "outputs": [],
   "source": [
    "import string\n",
    "import pandas as pd\n",
    "import numpy as np\n",
    "import matplotlib.pyplot as plt\n",
    "import seaborn as sns\n",
    "from nltk import ngrams\n",
    "from nltk.tokenize import word_tokenize\n",
    "from nltk.corpus import stopwords\n",
    "from nltk.tokenize import RegexpTokenizer\n",
    "from sklearn import linear_model, naive_bayes, svm\n",
    "from sklearn.metrics import accuracy_score, confusion_matrix\n",
    "from sklearn.utils.multiclass import unique_labels\n",
    "from sklearn.preprocessing import LabelEncoder\n",
    "from sklearn.feature_extraction.text import TfidfVectorizer, CountVectorizer\n",
    "from sklearn.decomposition import PCA\n",
    "from sklearn.manifold import TSNE\n",
    "from sklearn.naive_bayes import MultinomialNB"
   ]
  },
  {
   "cell_type": "code",
   "execution_count": 34,
   "metadata": {},
   "outputs": [
    {
     "data": {
      "text/html": [
       "<div>\n",
       "<style scoped>\n",
       "    .dataframe tbody tr th:only-of-type {\n",
       "        vertical-align: middle;\n",
       "    }\n",
       "\n",
       "    .dataframe tbody tr th {\n",
       "        vertical-align: top;\n",
       "    }\n",
       "\n",
       "    .dataframe thead th {\n",
       "        text-align: right;\n",
       "    }\n",
       "</style>\n",
       "<table border=\"1\" class=\"dataframe\">\n",
       "  <thead>\n",
       "    <tr style=\"text-align: right;\">\n",
       "      <th></th>\n",
       "      <th>Unnamed: 0</th>\n",
       "      <th>state</th>\n",
       "      <th>full_job_title</th>\n",
       "      <th>company_name</th>\n",
       "      <th>url</th>\n",
       "      <th>job_class</th>\n",
       "      <th>Text</th>\n",
       "    </tr>\n",
       "  </thead>\n",
       "  <tbody>\n",
       "    <tr>\n",
       "      <th>0</th>\n",
       "      <td>1</td>\n",
       "      <td>Hauts-de-Seine</td>\n",
       "      <td>Responsable Applicatif BI (Business Intelligence)</td>\n",
       "      <td>TalentsIt</td>\n",
       "      <td>http://www.indeed.fr/pagead/clk?mo=r&amp;ad=-6NYlb...</td>\n",
       "      <td>business+intelligence</td>\n",
       "      <td>VIDE</td>\n",
       "    </tr>\n",
       "    <tr>\n",
       "      <th>1</th>\n",
       "      <td>2</td>\n",
       "      <td>Hauts-de-Seine</td>\n",
       "      <td>ANALYSTE BUSINESS INTELLIGENCE H/F</td>\n",
       "      <td>Janssen</td>\n",
       "      <td>http://www.indeed.fr/pagead/clk?mo=r&amp;ad=-6NYlb...</td>\n",
       "      <td>business+intelligence</td>\n",
       "      <td>VIDE</td>\n",
       "    </tr>\n",
       "    <tr>\n",
       "      <th>2</th>\n",
       "      <td>3</td>\n",
       "      <td>Hauts-de-Seine</td>\n",
       "      <td>Stage Chargé de e-commerce H/F - Paris</td>\n",
       "      <td>Jobmania</td>\n",
       "      <td>http://www.indeed.fr/pagead/clk?mo=r&amp;ad=-6NYlb...</td>\n",
       "      <td>business+intelligence</td>\n",
       "      <td>VIDE</td>\n",
       "    </tr>\n",
       "    <tr>\n",
       "      <th>3</th>\n",
       "      <td>4</td>\n",
       "      <td>Hauts-de-Seine</td>\n",
       "      <td>Stage Business Intelligence Analyst H/F</td>\n",
       "      <td>Costa Croisières</td>\n",
       "      <td>http://www.indeed.fr/company/Costa-Crociere/jo...</td>\n",
       "      <td>business+intelligence</td>\n",
       "      <td>VIDE</td>\n",
       "    </tr>\n",
       "    <tr>\n",
       "      <th>4</th>\n",
       "      <td>5</td>\n",
       "      <td>Hauts-de-Seine</td>\n",
       "      <td>Chargé Business Dévelopment H/F</td>\n",
       "      <td>Impact Sales &amp; Marketing</td>\n",
       "      <td>http://www.indeed.fr/company/Impact-Field-Mark...</td>\n",
       "      <td>business+intelligence</td>\n",
       "      <td>VIDE</td>\n",
       "    </tr>\n",
       "  </tbody>\n",
       "</table>\n",
       "</div>"
      ],
      "text/plain": [
       "   Unnamed: 0           state  \\\n",
       "0           1  Hauts-de-Seine   \n",
       "1           2  Hauts-de-Seine   \n",
       "2           3  Hauts-de-Seine   \n",
       "3           4  Hauts-de-Seine   \n",
       "4           5  Hauts-de-Seine   \n",
       "\n",
       "                                      full_job_title  \\\n",
       "0  Responsable Applicatif BI (Business Intelligence)   \n",
       "1                 ANALYSTE BUSINESS INTELLIGENCE H/F   \n",
       "2             Stage Chargé de e-commerce H/F - Paris   \n",
       "3            Stage Business Intelligence Analyst H/F   \n",
       "4                    Chargé Business Dévelopment H/F   \n",
       "\n",
       "               company_name  \\\n",
       "0                 TalentsIt   \n",
       "1                   Janssen   \n",
       "2                  Jobmania   \n",
       "3          Costa Croisières   \n",
       "4  Impact Sales & Marketing   \n",
       "\n",
       "                                                 url              job_class  \\\n",
       "0  http://www.indeed.fr/pagead/clk?mo=r&ad=-6NYlb...  business+intelligence   \n",
       "1  http://www.indeed.fr/pagead/clk?mo=r&ad=-6NYlb...  business+intelligence   \n",
       "2  http://www.indeed.fr/pagead/clk?mo=r&ad=-6NYlb...  business+intelligence   \n",
       "3  http://www.indeed.fr/company/Costa-Crociere/jo...  business+intelligence   \n",
       "4  http://www.indeed.fr/company/Impact-Field-Mark...  business+intelligence   \n",
       "\n",
       "   Text  \n",
       "0  VIDE  \n",
       "1  VIDE  \n",
       "2  VIDE  \n",
       "3  VIDE  \n",
       "4  VIDE  "
      ]
     },
     "execution_count": 34,
     "metadata": {},
     "output_type": "execute_result"
    }
   ],
   "source": [
    "df = pd.read_csv(\"outputfullstack_with_text.csv\", encoding = \"utf-8\")\n",
    "# for column\n",
    "df['Text'] = df['Text'].replace(np.nan, 'VIDE')\n",
    "df.head()"
   ]
  },
  {
   "cell_type": "code",
   "execution_count": 35,
   "metadata": {},
   "outputs": [],
   "source": [
    "tokenizer = RegexpTokenizer(r'\\w+')\n",
    "stop_words = stopwords.words('french')"
   ]
  },
  {
   "cell_type": "code",
   "execution_count": 36,
   "metadata": {},
   "outputs": [
    {
     "data": {
      "text/html": [
       "<div>\n",
       "<style scoped>\n",
       "    .dataframe tbody tr th:only-of-type {\n",
       "        vertical-align: middle;\n",
       "    }\n",
       "\n",
       "    .dataframe tbody tr th {\n",
       "        vertical-align: top;\n",
       "    }\n",
       "\n",
       "    .dataframe thead th {\n",
       "        text-align: right;\n",
       "    }\n",
       "</style>\n",
       "<table border=\"1\" class=\"dataframe\">\n",
       "  <thead>\n",
       "    <tr style=\"text-align: right;\">\n",
       "      <th></th>\n",
       "      <th>Unnamed: 0</th>\n",
       "      <th>state</th>\n",
       "      <th>full_job_title</th>\n",
       "      <th>company_name</th>\n",
       "      <th>url</th>\n",
       "      <th>job_class</th>\n",
       "      <th>Text</th>\n",
       "      <th>Text_1</th>\n",
       "      <th>Text_2</th>\n",
       "      <th>Tokens</th>\n",
       "      <th>Tokens_1</th>\n",
       "      <th>Text_3</th>\n",
       "      <th>Tokens_2</th>\n",
       "    </tr>\n",
       "  </thead>\n",
       "  <tbody>\n",
       "    <tr>\n",
       "      <th>1556</th>\n",
       "      <td>1557</td>\n",
       "      <td>Paris</td>\n",
       "      <td>Développeur full-stack pour l'analyse automati...</td>\n",
       "      <td>Inria</td>\n",
       "      <td>http://www.indeed.fr/rc/clk?jk=fd1e855853084bd...</td>\n",
       "      <td>développeur+full+stack</td>\n",
       "      <td>VIDE</td>\n",
       "      <td>vide</td>\n",
       "      <td>vide</td>\n",
       "      <td>[vide]</td>\n",
       "      <td>[vide]</td>\n",
       "      <td>vide</td>\n",
       "      <td>[]</td>\n",
       "    </tr>\n",
       "    <tr>\n",
       "      <th>1557</th>\n",
       "      <td>1558</td>\n",
       "      <td>Paris</td>\n",
       "      <td>Stage Développeur Full-Stack</td>\n",
       "      <td>Activops</td>\n",
       "      <td>http://www.indeed.fr/rc/clk?jk=e4da08e1323b1c7...</td>\n",
       "      <td>développeur+full+stack</td>\n",
       "      <td>VIDE</td>\n",
       "      <td>vide</td>\n",
       "      <td>vide</td>\n",
       "      <td>[vide]</td>\n",
       "      <td>[vide]</td>\n",
       "      <td>vide</td>\n",
       "      <td>[]</td>\n",
       "    </tr>\n",
       "    <tr>\n",
       "      <th>1558</th>\n",
       "      <td>1559</td>\n",
       "      <td>Paris</td>\n",
       "      <td>Stage de pré-embauche Développeur Full Stack J...</td>\n",
       "      <td>Jobmania</td>\n",
       "      <td>http://www.indeed.fr/pagead/clk?mo=r&amp;ad=-6NYlb...</td>\n",
       "      <td>développeur+full+stack</td>\n",
       "      <td>VIDE</td>\n",
       "      <td>vide</td>\n",
       "      <td>vide</td>\n",
       "      <td>[vide]</td>\n",
       "      <td>[vide]</td>\n",
       "      <td>vide</td>\n",
       "      <td>[]</td>\n",
       "    </tr>\n",
       "    <tr>\n",
       "      <th>1559</th>\n",
       "      <td>1560</td>\n",
       "      <td>Paris</td>\n",
       "      <td>Développeur Full Stack JS</td>\n",
       "      <td>Experene</td>\n",
       "      <td>http://www.indeed.fr/pagead/clk?mo=r&amp;ad=-6NYlb...</td>\n",
       "      <td>développeur+full+stack</td>\n",
       "      <td>ExpereneCréée en 2017, Experene est une sociét...</td>\n",
       "      <td>experenecréée en 2017, experene est une sociét...</td>\n",
       "      <td>experenecréée en 2017, experene est une sociét...</td>\n",
       "      <td>[experenecréée, en, 2017, experene, est, une, ...</td>\n",
       "      <td>[experenecréée, 2017, experene, société, conse...</td>\n",
       "      <td>experenecréée 2017 experene société conseil se...</td>\n",
       "      <td>[(experenecréée, 2017), (2017, experene), (exp...</td>\n",
       "    </tr>\n",
       "    <tr>\n",
       "      <th>1560</th>\n",
       "      <td>1561</td>\n",
       "      <td>Paris</td>\n",
       "      <td>Développeur Full Stack H/F</td>\n",
       "      <td>Perfmaker</td>\n",
       "      <td>http://www.indeed.fr/pagead/clk?mo=r&amp;ad=-6NYlb...</td>\n",
       "      <td>développeur+full+stack</td>\n",
       "      <td>Le poste : Vous travaillerez en étroite collab...</td>\n",
       "      <td>le poste : vous travaillerez en étroite collab...</td>\n",
       "      <td>le poste : vous travaillerez en étroite collab...</td>\n",
       "      <td>[le, poste, vous, travaillerez, en, étroite, c...</td>\n",
       "      <td>[poste, travaillerez, étroite, collaboration, ...</td>\n",
       "      <td>poste travaillerez étroite collaboration fonda...</td>\n",
       "      <td>[(poste, travaillerez), (travaillerez, étroite...</td>\n",
       "    </tr>\n",
       "  </tbody>\n",
       "</table>\n",
       "</div>"
      ],
      "text/plain": [
       "      Unnamed: 0  state                                     full_job_title  \\\n",
       "1556        1557  Paris  Développeur full-stack pour l'analyse automati...   \n",
       "1557        1558  Paris                       Stage Développeur Full-Stack   \n",
       "1558        1559  Paris  Stage de pré-embauche Développeur Full Stack J...   \n",
       "1559        1560  Paris                          Développeur Full Stack JS   \n",
       "1560        1561  Paris                         Développeur Full Stack H/F   \n",
       "\n",
       "     company_name                                                url  \\\n",
       "1556        Inria  http://www.indeed.fr/rc/clk?jk=fd1e855853084bd...   \n",
       "1557     Activops  http://www.indeed.fr/rc/clk?jk=e4da08e1323b1c7...   \n",
       "1558     Jobmania  http://www.indeed.fr/pagead/clk?mo=r&ad=-6NYlb...   \n",
       "1559     Experene  http://www.indeed.fr/pagead/clk?mo=r&ad=-6NYlb...   \n",
       "1560    Perfmaker  http://www.indeed.fr/pagead/clk?mo=r&ad=-6NYlb...   \n",
       "\n",
       "                   job_class  \\\n",
       "1556  développeur+full+stack   \n",
       "1557  développeur+full+stack   \n",
       "1558  développeur+full+stack   \n",
       "1559  développeur+full+stack   \n",
       "1560  développeur+full+stack   \n",
       "\n",
       "                                                   Text  \\\n",
       "1556                                               VIDE   \n",
       "1557                                               VIDE   \n",
       "1558                                               VIDE   \n",
       "1559  ExpereneCréée en 2017, Experene est une sociét...   \n",
       "1560  Le poste : Vous travaillerez en étroite collab...   \n",
       "\n",
       "                                                 Text_1  \\\n",
       "1556                                               vide   \n",
       "1557                                               vide   \n",
       "1558                                               vide   \n",
       "1559  experenecréée en 2017, experene est une sociét...   \n",
       "1560  le poste : vous travaillerez en étroite collab...   \n",
       "\n",
       "                                                 Text_2  \\\n",
       "1556                                               vide   \n",
       "1557                                               vide   \n",
       "1558                                               vide   \n",
       "1559  experenecréée en 2017, experene est une sociét...   \n",
       "1560  le poste : vous travaillerez en étroite collab...   \n",
       "\n",
       "                                                 Tokens  \\\n",
       "1556                                             [vide]   \n",
       "1557                                             [vide]   \n",
       "1558                                             [vide]   \n",
       "1559  [experenecréée, en, 2017, experene, est, une, ...   \n",
       "1560  [le, poste, vous, travaillerez, en, étroite, c...   \n",
       "\n",
       "                                               Tokens_1  \\\n",
       "1556                                             [vide]   \n",
       "1557                                             [vide]   \n",
       "1558                                             [vide]   \n",
       "1559  [experenecréée, 2017, experene, société, conse...   \n",
       "1560  [poste, travaillerez, étroite, collaboration, ...   \n",
       "\n",
       "                                                 Text_3  \\\n",
       "1556                                               vide   \n",
       "1557                                               vide   \n",
       "1558                                               vide   \n",
       "1559  experenecréée 2017 experene société conseil se...   \n",
       "1560  poste travaillerez étroite collaboration fonda...   \n",
       "\n",
       "                                               Tokens_2  \n",
       "1556                                                 []  \n",
       "1557                                                 []  \n",
       "1558                                                 []  \n",
       "1559  [(experenecréée, 2017), (2017, experene), (exp...  \n",
       "1560  [(poste, travaillerez), (travaillerez, étroite...  "
      ]
     },
     "execution_count": 36,
     "metadata": {},
     "output_type": "execute_result"
    }
   ],
   "source": [
    "#lowercase\n",
    "df[\"Text_1\"] = df.Text.str.lower()\n",
    "#remove \\n\n",
    "df[\"Text_2\"] = df.Text_1.str.replace(\"\\\\n\", \" \")\n",
    "#remove punctuation and tokenize\n",
    "df[\"Tokens\"] = df.apply(lambda row: tokenizer.tokenize(row['Text_2']), axis=1)\n",
    "#remove stopwords\n",
    "df['Tokens_1'] = df['Tokens'].apply(lambda x: [item for item in x if item not in stop_words])\n",
    "#merge tokens back into string text\n",
    "df['Text_3']=[\" \".join(txt) for txt in df[\"Tokens_1\"].values]\n",
    "#create bigrams\n",
    "df[\"Tokens_2\"] = df[\"Tokens_1\"].apply(lambda row: list(ngrams(row, 2)))\n",
    "df.tail()"
   ]
  },
  {
   "cell_type": "code",
   "execution_count": 38,
   "metadata": {},
   "outputs": [],
   "source": [
    "df.to_csv(\"/home/auredata/Tokenized.csv\", encoding='utf-8')"
   ]
  },
  {
   "cell_type": "code",
   "execution_count": 5,
   "metadata": {},
   "outputs": [
    {
     "data": {
      "text/plain": [
       "array([0, 0, 0, ..., 4, 4, 4])"
      ]
     },
     "execution_count": 5,
     "metadata": {},
     "output_type": "execute_result"
    }
   ],
   "source": [
    "encoder = LabelEncoder()\n",
    "y = encoder.fit_transform(df.job_class)\n",
    "y"
   ]
  },
  {
   "cell_type": "code",
   "execution_count": 6,
   "metadata": {},
   "outputs": [],
   "source": [
    "v = TfidfVectorizer(max_features=100)\n",
    "#v.fit(df.iloc[0:3,7])\n",
    "x = df[\"Text_3\"]\n",
    "v.fit(x)\n",
    "#print(v.vocabulary_)\n",
    "#print(v2.vocabulary_.get(\"analytical\"))\n",
    "v2={}\n",
    "for a, b in v.vocabulary_.items():\n",
    "    v2[b] = a"
   ]
  },
  {
   "cell_type": "code",
   "execution_count": 7,
   "metadata": {},
   "outputs": [
    {
     "name": "stdout",
     "output_type": "stream",
     "text": [
      "proposant\n"
     ]
    }
   ],
   "source": [
    "print(v2.get(71))"
   ]
  },
  {
   "cell_type": "code",
   "execution_count": 8,
   "metadata": {},
   "outputs": [
    {
     "name": "stdout",
     "output_type": "stream",
     "text": [
      "TfidfVectorizer(analyzer='word', binary=False, decode_error='strict',\n",
      "                dtype=<class 'numpy.float64'>, encoding='utf-8',\n",
      "                input='content', lowercase=True, max_df=1.0, max_features=100,\n",
      "                min_df=1, ngram_range=(1, 1), norm='l2', preprocessor=None,\n",
      "                smooth_idf=True, stop_words=None, strip_accents=None,\n",
      "                sublinear_tf=False, token_pattern='(?u)\\\\b\\\\w\\\\w+\\\\b',\n",
      "                tokenizer=None, use_idf=True, vocabulary=None)\n",
      "  (0, 95)\t1.0\n",
      "  (1, 95)\t1.0\n",
      "  (2, 95)\t1.0\n",
      "  (3, 95)\t1.0\n",
      "  (4, 95)\t1.0\n",
      "  (5, 95)\t1.0\n",
      "  (6, 95)\t1.0\n",
      "  (7, 95)\t1.0\n",
      "  (8, 95)\t1.0\n",
      "  (9, 95)\t1.0\n",
      "  (10, 95)\t1.0\n",
      "  (11, 95)\t1.0\n",
      "  (12, 95)\t1.0\n",
      "  (13, 95)\t1.0\n",
      "  (14, 95)\t1.0\n",
      "  (15, 95)\t1.0\n",
      "  (16, 95)\t1.0\n",
      "  (17, 95)\t1.0\n",
      "  (18, 95)\t1.0\n",
      "  (19, 95)\t1.0\n",
      "  (20, 95)\t1.0\n",
      "  (21, 95)\t1.0\n",
      "  (22, 95)\t1.0\n",
      "  (23, 95)\t1.0\n",
      "  (24, 95)\t1.0\n",
      "  :\t:\n",
      "  (1560, 38)\t0.17269264228392436\n",
      "  (1560, 36)\t0.24532833997329867\n",
      "  (1560, 33)\t0.17269264228392436\n",
      "  (1560, 32)\t0.08177611332443288\n",
      "  (1560, 30)\t0.08177611332443288\n",
      "  (1560, 29)\t0.16355222664886576\n",
      "  (1560, 28)\t0.16355222664886576\n",
      "  (1560, 27)\t0.17269264228392436\n",
      "  (1560, 26)\t0.17269264228392436\n",
      "  (1560, 25)\t0.17269264228392436\n",
      "  (1560, 24)\t0.2590389634258865\n",
      "  (1560, 23)\t0.17269264228392436\n",
      "  (1560, 21)\t0.08177611332443288\n",
      "  (1560, 20)\t0.08634632114196218\n",
      "  (1560, 19)\t0.08177611332443288\n",
      "  (1560, 17)\t0.17269264228392436\n",
      "  (1560, 14)\t0.17269264228392436\n",
      "  (1560, 13)\t0.08634632114196218\n",
      "  (1560, 12)\t0.08634632114196218\n",
      "  (1560, 11)\t0.08177611332443288\n",
      "  (1560, 7)\t0.08634632114196218\n",
      "  (1560, 6)\t0.08634632114196218\n",
      "  (1560, 2)\t0.08177611332443288\n",
      "  (1560, 1)\t0.16355222664886576\n",
      "  (1560, 0)\t0.16355222664886576\n",
      "  (0, 95)\t1.0\n",
      "  (1, 95)\t1.0\n",
      "  (2, 95)\t1.0\n",
      "  (3, 95)\t1.0\n",
      "  (4, 95)\t1.0\n",
      "  (5, 95)\t1.0\n",
      "  (6, 95)\t1.0\n",
      "  (7, 95)\t1.0\n",
      "  (8, 95)\t1.0\n",
      "  (9, 95)\t1.0\n",
      "  (10, 95)\t1.0\n",
      "  (11, 95)\t1.0\n",
      "  (12, 95)\t1.0\n",
      "  (13, 95)\t1.0\n",
      "  (14, 95)\t1.0\n",
      "  (15, 95)\t1.0\n",
      "  (16, 95)\t1.0\n",
      "  (17, 95)\t1.0\n",
      "  (18, 95)\t1.0\n",
      "  (19, 95)\t1.0\n",
      "  (20, 95)\t1.0\n",
      "  (21, 95)\t1.0\n",
      "  (22, 95)\t1.0\n",
      "  (23, 95)\t1.0\n",
      "  (24, 95)\t1.0\n",
      "  :\t:\n",
      "  (1560, 19)\t0.0817761133244329\n",
      "  (1560, 59)\t0.0817761133244329\n",
      "  (1560, 94)\t0.1635522266488658\n",
      "  (1560, 32)\t0.0817761133244329\n",
      "  (1560, 2)\t0.0817761133244329\n",
      "  (1560, 28)\t0.1635522266488658\n",
      "  (1560, 36)\t0.2453283399732987\n",
      "  (1560, 96)\t0.1635522266488658\n",
      "  (1560, 57)\t0.1635522266488658\n",
      "  (1560, 29)\t0.1635522266488658\n",
      "  (1560, 98)\t0.0817761133244329\n",
      "  (1560, 93)\t0.0817761133244329\n",
      "  (1560, 39)\t0.0817761133244329\n",
      "  (1560, 30)\t0.0817761133244329\n",
      "  (1560, 61)\t0.0817761133244329\n",
      "  (1560, 41)\t0.0817761133244329\n",
      "  (1560, 79)\t0.0817761133244329\n",
      "  (1560, 21)\t0.0817761133244329\n",
      "  (1560, 40)\t0.0817761133244329\n",
      "  (1560, 43)\t0.0817761133244329\n",
      "  (1560, 46)\t0.0817761133244329\n",
      "  (1560, 69)\t0.0817761133244329\n",
      "  (1560, 42)\t0.0817761133244329\n",
      "  (1560, 89)\t0.0817761133244329\n",
      "  (1560, 70)\t0.0817761133244329\n"
     ]
    }
   ],
   "source": [
    "x_tfidf = v.transform(x)\n",
    "\n",
    "print(v)\n",
    "print(x_tfidf)\n",
    "x = v.fit_transform(df[\"Text_3\"])\n",
    "print(x)"
   ]
  },
  {
   "cell_type": "code",
   "execution_count": 9,
   "metadata": {},
   "outputs": [],
   "source": [
    "# fit the training dataset on the NB classifier\n",
    "#n = naive_bayes.MultinomialNB()\n",
    "#n.fit(x_tfidf, y)# predict the labels on validation dataset\n",
    "#n_pred = naive.predict(x_tfidf)# Use accuracy_score function to get the accuracy\n",
    "#print(\"Naive Bayes Accuracy Score -> \",accuracy_score(naive_pred, y)*100)"
   ]
  },
  {
   "cell_type": "code",
   "execution_count": 10,
   "metadata": {},
   "outputs": [
    {
     "name": "stdout",
     "output_type": "stream",
     "text": [
      "SVM Accuracy Score ->  21.58872517616912\n"
     ]
    }
   ],
   "source": [
    "# Classifier - Algorithm - SVM\n",
    "# fit the training dataset on the classifier\n",
    "#s = svm.SVC(C=1.0, kernel='linear', degree=3, gamma='auto')\n",
    "s = svm.LinearSVC(C=1.0)\n",
    "s.fit(x_tfidf, y)# predict the labels on validation dataset\n",
    "s_pred = s.predict(x_tfidf)# Use accuracy_score function to get the accuracy\n",
    "print(\"SVM Accuracy Score -> \",accuracy_score(s_pred, y)*100)"
   ]
  },
  {
   "cell_type": "code",
   "execution_count": 11,
   "metadata": {},
   "outputs": [
    {
     "data": {
      "text/plain": [
       "array([-0.07389033, -0.07389033, -0.05333723, -0.03461633, -0.01730816,\n",
       "       -0.01730816, -0.02170175, -0.02170175, -0.01730816, -0.01730816,\n",
       "       -0.03461633, -0.03694517, -0.02170175, -0.02170175, -0.0434035 ,\n",
       "       -0.03461633, -0.03461633, -0.0434035 , -0.03461633, -0.03694517,\n",
       "       -0.02170175, -0.06972929, -0.03461633, -0.0434035 , -0.06510525,\n",
       "       -0.0434035 , -0.0434035 , -0.0434035 , -0.05749827, -0.07389033,\n",
       "       -0.05333723, -0.05192449, -0.03694517, -0.0434035 , -0.06923265,\n",
       "       -0.10384898, -0.07805137, -0.03461633, -0.0434035 , -0.05333723,\n",
       "       -0.06972929, -0.03694517, -0.05333723, -0.03694517, -0.03461633,\n",
       "       -0.0434035 , -0.03694517, -0.02170175, -0.03461633, -0.01730816,\n",
       "       -0.0434035 , -0.01730816, -0.01730816, -0.02170175, -0.02170175,\n",
       "       -0.02170175, -0.0434035 , -0.05749827, -0.02170175, -0.03694517,\n",
       "       -0.01730816, -0.03694517, -0.01730816, -0.02170175, -0.0434035 ,\n",
       "       -0.02170175, -0.02170175, -0.01730816, -0.02170175, -0.03694517,\n",
       "       -0.06972929, -0.01730816, -0.01730816, -0.01730816, -0.02170175,\n",
       "       -0.02170175, -0.01730816, -0.01730816, -0.02170175, -0.03694517,\n",
       "       -0.02170175, -0.01730816, -0.02170175, -0.03461633, -0.01730816,\n",
       "       -0.02170175, -0.01730816, -0.02170175, -0.02170175, -0.03694517,\n",
       "       -0.03461633, -0.03461633, -0.03461633, -0.05333723, -0.05749827,\n",
       "       -0.04661442, -0.05749827, -0.05192449, -0.05333723, -0.0434035 ])"
      ]
     },
     "execution_count": 11,
     "metadata": {},
     "output_type": "execute_result"
    }
   ],
   "source": [
    "s.coef_[0]"
   ]
  },
  {
   "cell_type": "code",
   "execution_count": 12,
   "metadata": {},
   "outputs": [
    {
     "data": {
      "text/plain": [
       "array([[2, 0, 0],\n",
       "       [0, 0, 1],\n",
       "       [1, 0, 2]])"
      ]
     },
     "execution_count": 12,
     "metadata": {},
     "output_type": "execute_result"
    }
   ],
   "source": [
    "#confusion_matrix(s_pred, y)\n",
    "y_true = [2, 0, 2, 2, 0, 1]\n",
    "y_pred = [0, 0, 2, 2, 0, 2]\n",
    "confusion_matrix(y_true, y_pred)"
   ]
  },
  {
   "cell_type": "code",
   "execution_count": 13,
   "metadata": {},
   "outputs": [],
   "source": [
    "def plot_confusion_matrix(y_true, y_pred, classes,\n",
    "                          normalize=False,\n",
    "                          title=None,\n",
    "                          cmap=plt.cm.Blues):\n",
    "    \"\"\"\n",
    "    This function prints and plots the confusion matrix.\n",
    "    Normalization can be applied by setting `normalize=True`.\n",
    "    \"\"\"\n",
    "    if not title:\n",
    "        if normalize:\n",
    "            title = 'Normalized confusion matrix'\n",
    "        else:\n",
    "            title = 'Confusion matrix, without normalization'\n",
    "\n",
    "    # Compute confusion matrix\n",
    "    cm = confusion_matrix(y_true, y_pred)\n",
    "    # Only use the labels that appear in the data\n",
    "    classes = classes[unique_labels(y_true, y_pred)]\n",
    "    if normalize:\n",
    "        cm = cm.astype('float') / cm.sum(axis=1)[:, np.newaxis]\n",
    "        print(\"Normalized confusion matrix\")\n",
    "    else:\n",
    "        print('Confusion matrix, without normalization')\n",
    "\n",
    "    print(cm)\n",
    "    \n",
    "    fig, ax = plt.subplots()\n",
    "    im = ax.imshow(cm, interpolation='nearest', cmap=cmap)\n",
    "    ax.figure.colorbar(im, ax=ax)\n",
    "    # We want to show all ticks...\n",
    "    ax.set(xticks=np.arange(cm.shape[1]),\n",
    "           yticks=np.arange(cm.shape[0]),\n",
    "           # ... and label them with the respective list entries\n",
    "           xticklabels=classes, yticklabels=classes,\n",
    "           title=title,\n",
    "           ylabel='True label',\n",
    "           xlabel='Predicted label')\n",
    "\n",
    "    # Rotate the tick labels and set their alignment.\n",
    "    plt.setp(ax.get_xticklabels(), rotation=45, ha=\"right\",\n",
    "             rotation_mode=\"anchor\")\n",
    "\n",
    "    # Loop over data dimensions and create text annotations.\n",
    "    fmt = '.2f' if normalize else 'd'\n",
    "    thresh = cm.max() / 2.\n",
    "    for i in range(cm.shape[0]):\n",
    "        for j in range(cm.shape[1]):\n",
    "            ax.text(j, i, format(cm[i, j], fmt),\n",
    "                    ha=\"center\", va=\"center\",\n",
    "                    color=\"white\" if cm[i, j] > thresh else \"black\")\n",
    "    fig.tight_layout()\n",
    "    return ax"
   ]
  },
  {
   "cell_type": "code",
   "execution_count": 14,
   "metadata": {},
   "outputs": [
    {
     "name": "stdout",
     "output_type": "stream",
     "text": [
      "Confusion matrix, without normalization\n",
      "[[  0   0   0 315   0]\n",
      " [  0   0   0 301   0]\n",
      " [  0   0   0 310   0]\n",
      " [  0   0   0 335   0]\n",
      " [  0   0   0 298   2]]\n"
     ]
    },
    {
     "data": {
      "text/plain": [
       "<matplotlib.axes._subplots.AxesSubplot at 0x7fe5639554a8>"
      ]
     },
     "execution_count": 14,
     "metadata": {},
     "output_type": "execute_result"
    },
    {
     "data": {
      "image/png": "[encoded data removed]",
      "text/plain": [
       "<Figure size 432x288 with 2 Axes>"
      ]
     },
     "metadata": {
      "needs_background": "light"
     },
     "output_type": "display_data"
    }
   ],
   "source": [
    "class_names = np.unique(y)\n",
    "plot_confusion_matrix(y, s_pred, classes=class_names, title='Confusion matrix')"
   ]
  },
  {
   "cell_type": "code",
   "execution_count": 15,
   "metadata": {},
   "outputs": [
    {
     "data": {
      "text/plain": [
       "array([0, 1, 2, 3, 4])"
      ]
     },
     "execution_count": 15,
     "metadata": {},
     "output_type": "execute_result"
    }
   ],
   "source": [
    "np.unique(y)"
   ]
  },
  {
   "cell_type": "code",
   "execution_count": 16,
   "metadata": {},
   "outputs": [],
   "source": [
    "#df.Text_3.str.split(expand=True).stack().value_counts()\n",
    "#df.loc[df[\"job_class\"] == \"business+intelligence\"].Text_3.str.split(expand=True).stack().value_counts()\n",
    "#df.loc[df[\"job_class\"] == \"data+scientist\"].Text_3.str.split(expand=True).stack().value_counts()\n",
    "#df.loc[df[\"job_class\"] == \"data+analyst\"].Text_3.str.split(expand=True).stack().value_counts()\n",
    "#df.loc[df[\"job_class\"] == \"full+stack+developer\"].Text_3.str.split(expand=True).stack().value_counts()\n",
    "#df.loc[df[\"job_class\"] == \"data+engineer\"].Text_3.str.split(expand=True).stack().value_counts()"
   ]
  },
  {
   "cell_type": "code",
   "execution_count": 17,
   "metadata": {},
   "outputs": [],
   "source": [
    "def plot_dim_red(model, features, labels, n_components=2):\n",
    "    # Creation of the model\n",
    "    if (model == 'PCA'):\n",
    "        mod = PCA(n_components=n_components)\n",
    "        title = \"PCA decomposition\"  # for the plot\n",
    "        \n",
    "    elif (model == 'TSNE'):\n",
    "        mod = TSNE(n_components=2)\n",
    "        title = \"t-SNE decomposition\" \n",
    "\n",
    "    else:\n",
    "        return \"Error\"\n",
    "    \n",
    "    # Fit and transform the features\n",
    "    principal_components = mod.fit_transform(features)\n",
    "    \n",
    "    # Put them into a dataframe\n",
    "    df_features = pd.DataFrame(data=principal_components,\n",
    "                     columns=['PC1', 'PC2'])\n",
    "    \n",
    "    # Now we have to paste each row's label and its meaning\n",
    "    # Convert labels array to df\n",
    "    df_labels = pd.DataFrame(data=labels,\n",
    "                             columns=['label'])\n",
    "    \n",
    "    df_full = pd.concat([df_features, df_labels], axis=1)\n",
    "    df_full['label'] = df_full['label'].astype(str)\n",
    "\n",
    "    # Get labels name\n",
    "    category_names = {\n",
    "        \"0\": 'business intelligence',\n",
    "        \"1\": 'data analyst',\n",
    "        \"2\": 'data engineer',\n",
    "        \"3\": 'data scientist',\n",
    "        \"4\": 'full stack developer'\n",
    "    }\n",
    "    # And map labels\n",
    "    df_full['label_name'] = df_full['label']\n",
    "    df_full = df_full.replace({'label_name':category_names})\n",
    "\n",
    "    # Plot\n",
    "    plt.figure(figsize=(10,10))\n",
    "    sns.set_palette(\"hls\", 5)\n",
    "    sns.scatterplot(x='PC1',\n",
    "                    y='PC2',\n",
    "                    hue=\"label_name\", \n",
    "                    data=df_full,\n",
    "                    palette=[\"red\", \"orange\", \"darkgreen\", \"blue\", \"purple\"],\n",
    "                    alpha=.7).set_title(title);"
   ]
  },
  {
   "cell_type": "code",
   "execution_count": 18,
   "metadata": {},
   "outputs": [
    {
     "data": {
      "image/png": "[encoded data removed]",
      "text/plain": [
       "<Figure size 720x720 with 1 Axes>"
      ]
     },
     "metadata": {
      "needs_background": "light"
     },
     "output_type": "display_data"
    }
   ],
   "source": [
    "plot_dim_red(\"PCA\", features=x_tfidf.toarray(), labels=y, n_components=2)\n",
    "#help(PCA.fit_transform)\n",
    "#x_tfidf\n",
    "#help(sns.set_palette)"
   ]
  },
  {
   "cell_type": "code",
   "execution_count": 19,
   "metadata": {},
   "outputs": [
    {
     "data": {
      "image/png": "[encoded data removed]",
      "text/plain": [
       "<Figure size 720x720 with 1 Axes>"
      ]
     },
     "metadata": {
      "needs_background": "light"
     },
     "output_type": "display_data"
    }
   ],
   "source": [
    "plot_dim_red(\"TSNE\", features=x_tfidf.toarray(), labels=y, n_components=2)"
   ]
  },
  {
   "cell_type": "code",
   "execution_count": 20,
   "metadata": {},
   "outputs": [
    {
     "data": {
      "text/plain": [
       "array([[0.        , 0.        , 0.        , ..., 0.        , 0.        ,\n",
       "        0.        ],\n",
       "       [0.        , 0.        , 0.        , ..., 0.        , 0.        ,\n",
       "        0.        ],\n",
       "       [0.        , 0.        , 0.        , ..., 0.        , 0.        ,\n",
       "        0.        ],\n",
       "       ...,\n",
       "       [0.        , 0.        , 0.        , ..., 0.        , 0.        ,\n",
       "        0.        ],\n",
       "       [0.13044187, 0.13044187, 0.13044187, ..., 0.20659777, 0.13044187,\n",
       "        0.        ],\n",
       "       [0.16355223, 0.16355223, 0.08177611, ..., 0.        , 0.08177611,\n",
       "        0.17269264]])"
      ]
     },
     "execution_count": 20,
     "metadata": {},
     "output_type": "execute_result"
    }
   ],
   "source": [
    "x_tfidf.toarray()"
   ]
  },
  {
   "cell_type": "code",
   "execution_count": 21,
   "metadata": {},
   "outputs": [],
   "source": [
    "df[\"SVM_Prediction\"] = s_pred"
   ]
  },
  {
   "cell_type": "code",
   "execution_count": 22,
   "metadata": {},
   "outputs": [
    {
     "data": {
      "text/html": [
       "<div>\n",
       "<style scoped>\n",
       "    .dataframe tbody tr th:only-of-type {\n",
       "        vertical-align: middle;\n",
       "    }\n",
       "\n",
       "    .dataframe tbody tr th {\n",
       "        vertical-align: top;\n",
       "    }\n",
       "\n",
       "    .dataframe thead th {\n",
       "        text-align: right;\n",
       "    }\n",
       "</style>\n",
       "<table border=\"1\" class=\"dataframe\">\n",
       "  <thead>\n",
       "    <tr style=\"text-align: right;\">\n",
       "      <th></th>\n",
       "      <th>Unnamed: 0</th>\n",
       "      <th>state</th>\n",
       "      <th>full_job_title</th>\n",
       "      <th>company_name</th>\n",
       "      <th>url</th>\n",
       "      <th>job_class</th>\n",
       "      <th>Text</th>\n",
       "      <th>Text_1</th>\n",
       "      <th>Text_2</th>\n",
       "      <th>Tokens</th>\n",
       "      <th>Tokens_1</th>\n",
       "      <th>Text_3</th>\n",
       "      <th>Tokens_2</th>\n",
       "      <th>SVM_Prediction</th>\n",
       "    </tr>\n",
       "  </thead>\n",
       "  <tbody>\n",
       "    <tr>\n",
       "      <th>0</th>\n",
       "      <td>1</td>\n",
       "      <td>Hauts-de-Seine</td>\n",
       "      <td>Responsable Applicatif BI (Business Intelligence)</td>\n",
       "      <td>TalentsIt</td>\n",
       "      <td>http://www.indeed.fr/pagead/clk?mo=r&amp;ad=-6NYlb...</td>\n",
       "      <td>business+intelligence</td>\n",
       "      <td>VIDE</td>\n",
       "      <td>vide</td>\n",
       "      <td>vide</td>\n",
       "      <td>[vide]</td>\n",
       "      <td>[vide]</td>\n",
       "      <td>vide</td>\n",
       "      <td>[]</td>\n",
       "      <td>3</td>\n",
       "    </tr>\n",
       "    <tr>\n",
       "      <th>1</th>\n",
       "      <td>2</td>\n",
       "      <td>Hauts-de-Seine</td>\n",
       "      <td>ANALYSTE BUSINESS INTELLIGENCE H/F</td>\n",
       "      <td>Janssen</td>\n",
       "      <td>http://www.indeed.fr/pagead/clk?mo=r&amp;ad=-6NYlb...</td>\n",
       "      <td>business+intelligence</td>\n",
       "      <td>VIDE</td>\n",
       "      <td>vide</td>\n",
       "      <td>vide</td>\n",
       "      <td>[vide]</td>\n",
       "      <td>[vide]</td>\n",
       "      <td>vide</td>\n",
       "      <td>[]</td>\n",
       "      <td>3</td>\n",
       "    </tr>\n",
       "    <tr>\n",
       "      <th>2</th>\n",
       "      <td>3</td>\n",
       "      <td>Hauts-de-Seine</td>\n",
       "      <td>Stage Chargé de e-commerce H/F - Paris</td>\n",
       "      <td>Jobmania</td>\n",
       "      <td>http://www.indeed.fr/pagead/clk?mo=r&amp;ad=-6NYlb...</td>\n",
       "      <td>business+intelligence</td>\n",
       "      <td>VIDE</td>\n",
       "      <td>vide</td>\n",
       "      <td>vide</td>\n",
       "      <td>[vide]</td>\n",
       "      <td>[vide]</td>\n",
       "      <td>vide</td>\n",
       "      <td>[]</td>\n",
       "      <td>3</td>\n",
       "    </tr>\n",
       "    <tr>\n",
       "      <th>3</th>\n",
       "      <td>4</td>\n",
       "      <td>Hauts-de-Seine</td>\n",
       "      <td>Stage Business Intelligence Analyst H/F</td>\n",
       "      <td>Costa Croisières</td>\n",
       "      <td>http://www.indeed.fr/company/Costa-Crociere/jo...</td>\n",
       "      <td>business+intelligence</td>\n",
       "      <td>VIDE</td>\n",
       "      <td>vide</td>\n",
       "      <td>vide</td>\n",
       "      <td>[vide]</td>\n",
       "      <td>[vide]</td>\n",
       "      <td>vide</td>\n",
       "      <td>[]</td>\n",
       "      <td>3</td>\n",
       "    </tr>\n",
       "    <tr>\n",
       "      <th>4</th>\n",
       "      <td>5</td>\n",
       "      <td>Hauts-de-Seine</td>\n",
       "      <td>Chargé Business Dévelopment H/F</td>\n",
       "      <td>Impact Sales &amp; Marketing</td>\n",
       "      <td>http://www.indeed.fr/company/Impact-Field-Mark...</td>\n",
       "      <td>business+intelligence</td>\n",
       "      <td>VIDE</td>\n",
       "      <td>vide</td>\n",
       "      <td>vide</td>\n",
       "      <td>[vide]</td>\n",
       "      <td>[vide]</td>\n",
       "      <td>vide</td>\n",
       "      <td>[]</td>\n",
       "      <td>3</td>\n",
       "    </tr>\n",
       "  </tbody>\n",
       "</table>\n",
       "</div>"
      ],
      "text/plain": [
       "   Unnamed: 0           state  \\\n",
       "0           1  Hauts-de-Seine   \n",
       "1           2  Hauts-de-Seine   \n",
       "2           3  Hauts-de-Seine   \n",
       "3           4  Hauts-de-Seine   \n",
       "4           5  Hauts-de-Seine   \n",
       "\n",
       "                                      full_job_title  \\\n",
       "0  Responsable Applicatif BI (Business Intelligence)   \n",
       "1                 ANALYSTE BUSINESS INTELLIGENCE H/F   \n",
       "2             Stage Chargé de e-commerce H/F - Paris   \n",
       "3            Stage Business Intelligence Analyst H/F   \n",
       "4                    Chargé Business Dévelopment H/F   \n",
       "\n",
       "               company_name  \\\n",
       "0                 TalentsIt   \n",
       "1                   Janssen   \n",
       "2                  Jobmania   \n",
       "3          Costa Croisières   \n",
       "4  Impact Sales & Marketing   \n",
       "\n",
       "                                                 url              job_class  \\\n",
       "0  http://www.indeed.fr/pagead/clk?mo=r&ad=-6NYlb...  business+intelligence   \n",
       "1  http://www.indeed.fr/pagead/clk?mo=r&ad=-6NYlb...  business+intelligence   \n",
       "2  http://www.indeed.fr/pagead/clk?mo=r&ad=-6NYlb...  business+intelligence   \n",
       "3  http://www.indeed.fr/company/Costa-Crociere/jo...  business+intelligence   \n",
       "4  http://www.indeed.fr/company/Impact-Field-Mark...  business+intelligence   \n",
       "\n",
       "   Text Text_1 Text_2  Tokens Tokens_1 Text_3 Tokens_2  SVM_Prediction  \n",
       "0  VIDE   vide   vide  [vide]   [vide]   vide       []               3  \n",
       "1  VIDE   vide   vide  [vide]   [vide]   vide       []               3  \n",
       "2  VIDE   vide   vide  [vide]   [vide]   vide       []               3  \n",
       "3  VIDE   vide   vide  [vide]   [vide]   vide       []               3  \n",
       "4  VIDE   vide   vide  [vide]   [vide]   vide       []               3  "
      ]
     },
     "execution_count": 22,
     "metadata": {},
     "output_type": "execute_result"
    }
   ],
   "source": [
    "df.head()"
   ]
  },
  {
   "cell_type": "code",
   "execution_count": 23,
   "metadata": {},
   "outputs": [],
   "source": [
    "df.to_csv(\"predictions.csv\", encoding='utf-8')"
   ]
  },
  {
   "cell_type": "code",
   "execution_count": null,
   "metadata": {},
   "outputs": [],
   "source": []
  },
  {
   "cell_type": "code",
   "execution_count": null,
   "metadata": {},
   "outputs": [],
   "source": []
  },
  {
   "cell_type": "code",
   "execution_count": null,
   "metadata": {},
   "outputs": [],
   "source": []
  },
  {
   "cell_type": "code",
   "execution_count": null,
   "metadata": {},
   "outputs": [],
   "source": []
  },
  {
   "cell_type": "code",
   "execution_count": null,
   "metadata": {},
   "outputs": [],
   "source": []
  }
 ],
 "metadata": {
  "kernelspec": {
   "display_name": "Python 3",
   "language": "python",
   "name": "python3"
  },
  "language_info": {
   "codemirror_mode": {
    "name": "ipython",
    "version": 3
   },
   "file_extension": ".py",
   "mimetype": "text/x-python",
   "name": "python",
   "nbconvert_exporter": "python",
   "pygments_lexer": "ipython3",
   "version": "3.7.4"
  }
 },
 "nbformat": 4,
 "nbformat_minor": 2
}
